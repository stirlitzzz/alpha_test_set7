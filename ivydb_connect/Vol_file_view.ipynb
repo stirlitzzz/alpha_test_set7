{
 "cells": [
  {
   "cell_type": "code",
   "execution_count": 8,
   "metadata": {},
   "outputs": [],
   "source": [
    "import pandas as pd\n",
    "import numpy as np\n",
    "import matplotlib.pyplot as plt\n",
    "import seaborn as sns\n",
    "from sklearn.preprocessing import StandardScaler\n",
    "from ivydb_google_drive_reader import IvyDBGoogleDriveReader"
   ]
  },
  {
   "cell_type": "code",
   "execution_count": 9,
   "metadata": {},
   "outputs": [
    {
     "ename": "SyntaxError",
     "evalue": "incomplete input (3815751107.py, line 12)",
     "output_type": "error",
     "traceback": [
      "\u001b[0;36m  Cell \u001b[0;32mIn[9], line 12\u001b[0;36m\u001b[0m\n\u001b[0;31m    df = reader.read_file('IVYSECPRD_199601.zip', 'Security_Price')\u001b[0m\n\u001b[0m                                                                   ^\u001b[0m\n\u001b[0;31mSyntaxError\u001b[0m\u001b[0;31m:\u001b[0m incomplete input\n"
     ]
    }
   ],
   "source": [
    "file_name='cache/joined_199601.csv'\n",
    "df = pd.read_csv(file_name)\n",
    "security_ids = df['Security ID'].unique()\n",
    "print(security_ids)\n",
    "reader = IvyDBGoogleDriveReader(\n",
    "    credentials_file='testproject1-419520-61c1efd44a96.json',\n",
    "    folder_id='1AlYGA105eq8xdJQzJsSNWFBmIZvvEcsu',\n",
    "    definitions_file='ivydb_table_definitions.json'\n",
    ")\n",
    "\n",
    "try:\n",
    "    df = reader.read_file('IVYSECURD.zip', 'Security')\n"
   ]
  }
 ],
 "metadata": {
  "kernelspec": {
   "display_name": "ml_env2",
   "language": "python",
   "name": "python3"
  },
  "language_info": {
   "codemirror_mode": {
    "name": "ipython",
    "version": 3
   },
   "file_extension": ".py",
   "mimetype": "text/x-python",
   "name": "python",
   "nbconvert_exporter": "python",
   "pygments_lexer": "ipython3",
   "version": "3.11.0"
  }
 },
 "nbformat": 4,
 "nbformat_minor": 2
}
