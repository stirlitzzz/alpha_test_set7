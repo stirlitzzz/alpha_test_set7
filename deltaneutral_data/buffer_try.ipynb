{
 "cells": [
  {
   "cell_type": "code",
   "execution_count": 19,
   "metadata": {},
   "outputs": [],
   "source": [
    "from collections import deque\n",
    "import sys\n",
    "from pathlib import Path\n",
    "import pandas as pd\n",
    "import zipfile\n"
   ]
  },
  {
   "cell_type": "code",
   "execution_count": 3,
   "metadata": {},
   "outputs": [],
   "source": [
    "min_buffer_size = 10\n",
    "max_buffer_size = 1000\n",
    "\n",
    "my_queue = deque(maxlen=max_buffer_size)"
   ]
  },
  {
   "cell_type": "code",
   "execution_count": 24,
   "metadata": {},
   "outputs": [
    {
     "name": "stdout",
     "output_type": "stream",
     "text": [
      "daily fname L3_options_20240915.csv\n",
      "not cached\n",
      "monthly fname L3_2024_April.zip\n",
      "monthly cached\n",
      "['L3_optionstats_20240401.csv', 'L3_optionstats_20240402.csv', 'L3_optionstats_20240403.csv', 'L3_optionstats_20240404.csv', 'L3_optionstats_20240405.csv', 'L3_optionstats_20240408.csv', 'L3_optionstats_20240409.csv', 'L3_optionstats_20240410.csv', 'L3_optionstats_20240411.csv', 'L3_optionstats_20240412.csv', 'L3_optionstats_20240415.csv', 'L3_optionstats_20240416.csv', 'L3_optionstats_20240417.csv', 'L3_optionstats_20240418.csv', 'L3_optionstats_20240419.csv', 'L3_optionstats_20240422.csv', 'L3_optionstats_20240423.csv', 'L3_optionstats_20240424.csv', 'L3_optionstats_20240425.csv', 'L3_optionstats_20240426.csv', 'L3_optionstats_20240429.csv', 'L3_optionstats_20240430.csv', 'L3_options_20240401.csv', 'L3_options_20240402.csv', 'L3_options_20240403.csv', 'L3_options_20240404.csv', 'L3_options_20240405.csv', 'L3_options_20240408.csv', 'L3_options_20240409.csv', 'L3_options_20240410.csv', 'L3_options_20240411.csv', 'L3_options_20240412.csv', 'L3_options_20240415.csv', 'L3_options_20240416.csv', 'L3_options_20240417.csv', 'L3_options_20240418.csv', 'L3_options_20240419.csv', 'L3_options_20240422.csv', 'L3_options_20240423.csv', 'L3_options_20240424.csv', 'L3_options_20240425.csv', 'L3_options_20240426.csv', 'L3_options_20240429.csv', 'L3_options_20240430.csv', 'L3_stockquotes_20240401.csv', 'L3_stockquotes_20240402.csv', 'L3_stockquotes_20240403.csv', 'L3_stockquotes_20240404.csv', 'L3_stockquotes_20240405.csv', 'L3_stockquotes_20240408.csv', 'L3_stockquotes_20240409.csv', 'L3_stockquotes_20240410.csv', 'L3_stockquotes_20240411.csv', 'L3_stockquotes_20240412.csv', 'L3_stockquotes_20240415.csv', 'L3_stockquotes_20240416.csv', 'L3_stockquotes_20240417.csv', 'L3_stockquotes_20240418.csv', 'L3_stockquotes_20240419.csv', 'L3_stockquotes_20240422.csv', 'L3_stockquotes_20240423.csv', 'L3_stockquotes_20240424.csv', 'L3_stockquotes_20240425.csv', 'L3_stockquotes_20240426.csv', 'L3_stockquotes_20240429.csv', 'L3_stockquotes_20240430.csv']\n"
     ]
    }
   ],
   "source": [
    "class cache():\n",
    "    def __init__(self, cache_dir):\n",
    "        self.cache_dir = cache_dir\n",
    "        self.cache_dir.mkdir(parents=True, exist_ok=True)\n",
    "    \n",
    "    def get_cache_path(self, file_name: str) -> Path:\n",
    "        return self.cache_dir / file_name\n",
    "    \n",
    "    \n",
    "    def is_cached(self,fname):\n",
    "        return (self.cache_dir / fname).exists()\n",
    "    \n",
    "    def is_cache_valid(self, file_name: str, modified_time: str) -> bool:\n",
    "        cache_path = self.get_cache_path(file_name)\n",
    "        if not cache_path.exists():\n",
    "            return False\n",
    "        \n",
    "        cache_modified_time = cache_path.stat().st_mtime\n",
    "        drive_modified_time = pd.to_datetime(modified_time).timestamp()\n",
    "        \n",
    "        return cache_modified_time >= drive_modified_time\n",
    "\n",
    "class ds_info():\n",
    "    def __init__(self, cache):\n",
    "        self.cache = cache\n",
    "    def get_archive_file_name(self,date)->str:\n",
    "        fname=f'L3_{date.strftime(\"%Y\")}_{date.strftime(\"%B\")}.zip'\n",
    "        return fname\n",
    "\n",
    "    def get_archive_file_name_daily(self,date)->str:\n",
    "        fname=f'L3_{date.strftime(\"%Y%m%d\")}.zip'\n",
    "        return fname\n",
    "\n",
    "    def get_daily_options_file_name(self,date)->str:\n",
    "        fname=f'L3_options_{date.strftime(\"%Y%m%d\")}.csv'\n",
    "        return fname\n",
    "\n",
    "my_cache = cache(Path(\"cache\"))\n",
    "my_cache.cache_dir\n",
    "my_cache.is_cached(\"L3_2024_April.zip\")\n",
    "my_cache.is_cache_valid(\"L3_2024_April.zip\", \"2024-09-15\")\n",
    "daily_fname=ds_info(my_cache).get_daily_options_file_name(pd.to_datetime(\"2024-04-15\")) \n",
    "print(f'daily fname {daily_fname}')\n",
    "my_cache.is_cached(daily_fname)\n",
    "if ~my_cache.is_cached(daily_fname):\n",
    "    print(\"not cached\")\n",
    "    monthly_fname=ds_info(my_cache).get_archive_file_name(pd.to_datetime(\"2024-04-15\"))\n",
    "    print(f'monthly fname {monthly_fname}')\n",
    "    if my_cache.is_cached(monthly_fname):\n",
    "        print(\"monthly cached\")\n",
    "        with zipfile.ZipFile(cache.get_cache_path(my_cache,monthly_fname)) as zip_ref:\n",
    "            print(zip_ref.namelist())\n",
    "            if daily_fname in zip_ref.namelist():\n",
    "                print(\"daily found in monthly\")\n",
    "    else:\n",
    "        print(\"monthly not cached\") \n",
    "\n",
    "        \n"
   ]
  },
  {
   "cell_type": "code",
   "execution_count": 10,
   "metadata": {},
   "outputs": [],
   "source": [
    "def get_cache_path(self, file_name: str) -> Path:\n",
    "    return self.cache_dir / file_name\n",
    "\n",
    "def is_cache_valid(self, file_name: str, modified_time: str) -> bool:\n",
    "    cache_path = self.get_cache_path(file_name)\n",
    "    if not cache_path.exists():\n",
    "        return False\n",
    "    \n",
    "    cache_modified_time = cache_path.stat().st_mtime\n",
    "    drive_modified_time = pd.to_datetime(modified_time).timestamp()\n",
    "    \n",
    "    return cache_modified_time >= drive_modified_time\n"
   ]
  }
 ],
 "metadata": {
  "kernelspec": {
   "display_name": "ml_env2",
   "language": "python",
   "name": "python3"
  },
  "language_info": {
   "codemirror_mode": {
    "name": "ipython",
    "version": 3
   },
   "file_extension": ".py",
   "mimetype": "text/x-python",
   "name": "python",
   "nbconvert_exporter": "python",
   "pygments_lexer": "ipython3",
   "version": "3.11.0"
  }
 },
 "nbformat": 4,
 "nbformat_minor": 2
}
